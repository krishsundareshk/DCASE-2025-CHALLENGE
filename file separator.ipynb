{
 "cells": [
  {
   "cell_type": "code",
   "execution_count": 1,
   "id": "e4f2c8f8",
   "metadata": {},
   "outputs": [
    {
     "name": "stderr",
     "output_type": "stream",
     "text": [
      "<>:7: SyntaxWarning: invalid escape sequence '\\D'\n",
      "<>:8: SyntaxWarning: invalid escape sequence '\\D'\n",
      "<>:9: SyntaxWarning: invalid escape sequence '\\D'\n",
      "<>:7: SyntaxWarning: invalid escape sequence '\\D'\n",
      "<>:8: SyntaxWarning: invalid escape sequence '\\D'\n",
      "<>:9: SyntaxWarning: invalid escape sequence '\\D'\n",
      "C:\\Users\\krishkannan\\AppData\\Local\\Temp\\ipykernel_22176\\248992464.py:7: SyntaxWarning: invalid escape sequence '\\D'\n",
      "  INPUT_DIR = \"C:\\DCASE_Temp\\FineTuned\"\n",
      "C:\\Users\\krishkannan\\AppData\\Local\\Temp\\ipykernel_22176\\248992464.py:8: SyntaxWarning: invalid escape sequence '\\D'\n",
      "  OUTPUT_SOURCE_DIR = \"C:\\DCASE_Temp\\FineTuned\\Source\"\n",
      "C:\\Users\\krishkannan\\AppData\\Local\\Temp\\ipykernel_22176\\248992464.py:9: SyntaxWarning: invalid escape sequence '\\D'\n",
      "  OUTPUT_TARGET_DIR = \"C:\\DCASE_Temp\\FineTuned\\Target\"\n"
     ]
    },
    {
     "name": "stdout",
     "output_type": "stream",
     "text": [
      "📦 Splitting: train_bearing\n",
      "📦 Splitting: train_fan\n",
      "📦 Splitting: train_gearbox\n",
      "📦 Splitting: train_slider\n",
      "📦 Splitting: train_toycar\n",
      "📦 Splitting: train_toytrain\n",
      "📦 Splitting: train_valve\n",
      "\n",
      "✅ Done splitting source and target files!\n"
     ]
    }
   ],
   "source": [
    "import os\n",
    "import shutil\n",
    "\n",
    "# -------------------------------\n",
    "# CONFIGURATION\n",
    "# -------------------------------\n",
    "INPUT_DIR = \"C:\\DCASE_Temp\\FineTuned\"\n",
    "OUTPUT_SOURCE_DIR = \"C:\\DCASE_Temp\\FineTuned\\Source\"\n",
    "OUTPUT_TARGET_DIR = \"C:\\DCASE_Temp\\FineTuned\\Target\"\n",
    "\n",
    "# -------------------------------\n",
    "# FILE SPLITTING FUNCTION\n",
    "# -------------------------------\n",
    "def split_files_by_domain(machine_folder):\n",
    "    machine_input_path = os.path.join(INPUT_DIR, machine_folder)\n",
    "    source_output_path = os.path.join(OUTPUT_SOURCE_DIR, machine_folder)\n",
    "    target_output_path = os.path.join(OUTPUT_TARGET_DIR, machine_folder)\n",
    "\n",
    "    os.makedirs(source_output_path, exist_ok=True)\n",
    "    os.makedirs(target_output_path, exist_ok=True)\n",
    "\n",
    "    for file in os.listdir(machine_input_path):\n",
    "        if not file.endswith(\".npy\"):\n",
    "            continue  # Skip non-npy files\n",
    "\n",
    "        src_file = os.path.join(machine_input_path, file)\n",
    "\n",
    "        if \"source\" in file:\n",
    "            shutil.copy(src_file, os.path.join(source_output_path, file))\n",
    "        elif \"target\" in file:\n",
    "            shutil.copy(src_file, os.path.join(target_output_path, file))\n",
    "        else:\n",
    "            print(f\"[!] Skipped unknown pattern: {file}\")\n",
    "\n",
    "# -------------------------------\n",
    "# MAIN EXECUTION\n",
    "# -------------------------------\n",
    "def main():\n",
    "    machine_folders = os.listdir(INPUT_DIR)\n",
    "    for machine in machine_folders:\n",
    "        machine_path = os.path.join(INPUT_DIR, machine)\n",
    "        if os.path.isdir(machine_path):\n",
    "            print(f\"📦 Splitting: {machine}\")\n",
    "            split_files_by_domain(machine)\n",
    "\n",
    "    print(\"\\n✅ Done splitting source and target files!\")\n",
    "\n",
    "if __name__ == \"__main__\":\n",
    "    main()\n"
   ]
  },
  {
   "cell_type": "code",
   "execution_count": null,
   "id": "a1138509",
   "metadata": {},
   "outputs": [],
   "source": []
  }
 ],
 "metadata": {
  "kernelspec": {
   "display_name": "Python 3",
   "language": "python",
   "name": "python3"
  },
  "language_info": {
   "codemirror_mode": {
    "name": "ipython",
    "version": 3
   },
   "file_extension": ".py",
   "mimetype": "text/x-python",
   "name": "python",
   "nbconvert_exporter": "python",
   "pygments_lexer": "ipython3",
   "version": "3.13.2"
  }
 },
 "nbformat": 4,
 "nbformat_minor": 5
}
